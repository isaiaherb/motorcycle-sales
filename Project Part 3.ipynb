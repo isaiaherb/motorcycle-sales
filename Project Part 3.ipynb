{
 "cells": [
  {
   "cell_type": "markdown",
   "id": "6ff47703-b989-43fb-8d41-0f796828090e",
   "metadata": {},
   "source": [
    "Project Part 3\n",
    "==============="
   ]
  },
  {
   "cell_type": "code",
   "execution_count": null,
   "id": "a8ece3a4-e45a-4af1-be2f-3cc6ae9403ef",
   "metadata": {},
   "outputs": [],
   "source": [
    "import pandas as pd\n",
    "import xlwings as xw\n",
    "import matplotlib.pyplot as plt\n",
    "from statsmodels.formula.api import ols\n",
    "import StatTests\n",
    "import numpy as np\n",
    "from scipy import stats "
   ]
  },
  {
   "cell_type": "code",
   "execution_count": null,
   "id": "f7a38887-ab97-4e93-b554-e82e68359290",
   "metadata": {},
   "outputs": [],
   "source": [
    "df1 = pd.read_csv('Seller.csv')\n",
    "df2 = pd.read_csv('Vehicle.csv')\n",
    "df = pd.merge(df1, df2, on='unique_motorcycle_id')\n",
    "df"
   ]
  },
  {
   "cell_type": "markdown",
   "id": "28782455-dbd8-4534-a9da-886f48ffec93",
   "metadata": {},
   "source": [
    "Report Section\n",
    "-------"
   ]
  },
  {
   "cell_type": "markdown",
   "id": "cb30b543-1cb2-4d6a-bcdf-dacff83c2c0a",
   "metadata": {},
   "source": [
    "I want to see how certain factors, like kilometers driven or the type of seller, affect showroom and selling prices of motorcycles. I'd also like to see which types of previous owners had motorcycles with the most kilometers per hour. To do this, we will need to perform one regression, one t-test, and one ANOVA. "
   ]
  },
  {
   "cell_type": "markdown",
   "id": "477b9c2e-868f-46da-ab5b-bfc979072bc3",
   "metadata": {},
   "source": [
    "### Q1: Does the amount of kilometers on the motorcycle have an affect on its showroom price?"
   ]
  },
  {
   "cell_type": "code",
   "execution_count": null,
   "id": "d8790f46-995f-463b-87e7-2a25fcf997c2",
   "metadata": {},
   "outputs": [],
   "source": [
    "model = ols('km_driven ~ ex_showroom_price',data=df).fit()\n",
    "print(model.summary())"
   ]
  },
  {
   "cell_type": "markdown",
   "id": "13c9a459-09e2-4872-81ae-56afd5442b22",
   "metadata": {},
   "source": [
    "#### Analysis and Conclusion"
   ]
  },
  {
   "cell_type": "markdown",
   "id": "74395935-8f1e-485f-bbf3-7441cc1c2321",
   "metadata": {},
   "source": [
    "There is a 4% chance that the Kilometers Driven have no effect on the Showroom Price. We can also see that since 'ex_showroom_price' has a negative coeficient, as the Kilometers Driven increase, the Showroom Price decreases. "
   ]
  },
  {
   "cell_type": "markdown",
   "id": "d153b3ee-1b69-425e-804e-63c69c0328fb",
   "metadata": {},
   "source": [
    "### Q2: Is the average number of Kilometers Driven the same between the different owner groups?"
   ]
  },
  {
   "cell_type": "code",
   "execution_count": null,
   "id": "0233e8e0-54a1-4c48-9449-75c26f2d9002",
   "metadata": {},
   "outputs": [],
   "source": [
    "firstOwner = df[df['owner'] == '1st owner']\n",
    "secondOwner = df[df['owner'] == '2nd owner']\n",
    "thirdOwner = df[df['owner'] == '3rd owner']\n",
    "alpha = 0.05\n",
    "f, p_val = stats.f_oneway(firstOwner['km_driven'],secondOwner['km_driven'],thirdOwner['km_driven'])\n",
    "print(\"This is a test of equal means with Ho: The means of all groups are equal/Ha: At least one group mean is different\")\n",
    "print(f\"The F test statistic is {round(f,3)} and the p-value is {round(p_val,4)}\")\n",
    "if p_val < alpha:\n",
    "    print(\"Conclusion: Reject Ho: At least one group mean is different\")\n",
    "    ANOVA_type = \"ANOVA: At least one group mean is different\"\n",
    "else:\n",
    "    print(\"Conclusion: Fail to Reject Ho: We can't reject that the means are the same\")\n",
    "    ANOVA_type = \"Anova: Group means are the same\"\n",
    "print(\"\\n\")\n",
    "print(\"From the anova test, we can state that we cannot see a difference between average selling price by previous owner type.\")"
   ]
  },
  {
   "cell_type": "markdown",
   "id": "c547fe93-e4fb-4cb4-90a9-e9716bfa048a",
   "metadata": {},
   "source": [
    "### Q3: Is the average Price the same between the different seller types?"
   ]
  },
  {
   "cell_type": "code",
   "execution_count": null,
   "id": "439eede1-b199-4e1f-a826-cabbd04a2c42",
   "metadata": {},
   "outputs": [],
   "source": [
    "StatTests.MeansTest(df,'seller_type','selling_price')\n",
    "print(\"From the t test, we can state that we cannot see a difference between average selling price by the type of seller.\")"
   ]
  },
  {
   "cell_type": "markdown",
   "id": "7b05197e-4529-4d4e-9202-fd8f5e9ead9d",
   "metadata": {},
   "source": [
    "### Overall Conclusion"
   ]
  },
  {
   "cell_type": "markdown",
   "id": "f6e2b01e-c8bc-47c5-9a78-ede63cfa9ae3",
   "metadata": {},
   "source": [
    "We've concluded that kilometers driven most likely has an effect on the showroom price of a motorcycle. The means of kilometers driven also varies between the different types of previous owners (1st, 2nd, or 3rd), and the mean selling price varies with the type of seller (individual or dealership)."
   ]
  },
  {
   "cell_type": "markdown",
   "id": "5fdbf88d-d9e0-458a-9aca-fce9856ee73d",
   "metadata": {},
   "source": [
    "Menu Section\n",
    "------"
   ]
  },
  {
   "cell_type": "code",
   "execution_count": 162,
   "id": "f9aa9e27-3f35-4051-b99b-ec8a4a93294d",
   "metadata": {},
   "outputs": [],
   "source": [
    "def runMenu(df):\n",
    "    quit = False\n",
    "    while quit == False: \n",
    "        print(\"\\nMENU\")\n",
    "        print(\"1. Find Maximum Value\")\n",
    "        print(\"2. Find Minimum Value\")\n",
    "        print(\"3. Find Average Value\")\n",
    "        print(\"4. Open DataFrame in Excel\")\n",
    "        print(\"5. Regression for Showroom Price by Kilometers Driven\")\n",
    "        print(\"6. ANOVA Test: Kilometers Driven by Previous Owner\")\n",
    "        print(\"7. T test: Price by Seller Type\")\n",
    "        print(\"8. Scatter Plot showing the Kilometers Driven by Year\")\n",
    "        print(\"9. Quit\")\n",
    "        menu_choice = input(\"Select an option: \")\n",
    "        try:\n",
    "            menu_choice = int(menu_choice) \n",
    "        except:\n",
    "            print(\"ERROR: Please enter a number between 1 and 9.\")\n",
    "        if menu_choice not in [1,2,3,4,5,6,7,8,9]:\n",
    "            print(\"ERROR: Please enter a number between 1 and 9.\")\n",
    "        else:\n",
    "            if menu_choice == 1:\n",
    "                print(\"\\n\")\n",
    "                print(\"\\nMENU\")\n",
    "                print(list(df.select_dtypes('number').columns))\n",
    "                hist_col = input(\"Select an option: \")\n",
    "                print(df[hist_col].max())\n",
    "                continue\n",
    "            elif menu_choice == 2:\n",
    "                print(\"\\n\")\n",
    "                print(\"\\nMENU\")\n",
    "                print(list(df.select_dtypes('number').columns))\n",
    "                hist_col = input(\"Select an option: \")\n",
    "                print(df[hist_col].min())\n",
    "                continue\n",
    "            elif menu_choice == 3:\n",
    "                print(\"\\n\")\n",
    "                print(\"\\nMENU\")\n",
    "                print(list(df.select_dtypes('number').columns))\n",
    "                hist_col = input(\"Select an option: \")\n",
    "                print(df[hist_col].mean())\n",
    "                continue\n",
    "            elif menu_choice == 4:\n",
    "                print(\"\\n\")\n",
    "                df.to_excel(r'PYProjectPart3Data.xlsx')\n",
    "                wb2 = xw.Book(r'PYProjectPart3Data.xlsx')\n",
    "            elif menu_choice == 5:\n",
    "                print(\"\\n\")\n",
    "                model = ols('km_driven ~ ex_showroom_price',data=df).fit()\n",
    "                print(model.summary())\n",
    "            elif menu_choice == 6:\n",
    "                print(\"\\n\")\n",
    "                firstOwner = df[df['owner'] == '1st owner']\n",
    "                secondOwner = df[df['owner'] == '2nd owner']\n",
    "                thirdOwner = df[df['owner'] == '3rd owner']\n",
    "                alpha = 0.05\n",
    "                f, p_val = stats.f_oneway(firstOwner['km_driven'],secondOwner['km_driven'],thirdOwner['km_driven'])\n",
    "                print(\"This is a test of equal means with Ho: The means of all groups are equal/Ha: At least one group mean is different\")\n",
    "                print(f\"The F test statistic is {round(f,3)} and the p-value is {round(p_val,4)}\")\n",
    "                if p_val < alpha:\n",
    "                    print(\"Conclusion: Reject Ho: At least one group mean is different\")\n",
    "                    ANOVA_type = \"ANOVA: At least one group mean is different\"\n",
    "                else:\n",
    "                    print(\"Conclusion: Fail to Reject Ho: We can't reject that the means are the same\")\n",
    "                    ANOVA_type = \"Anova: Group means are the same\"\n",
    "            elif menu_choice == 7:\n",
    "                print(\"\\n\")\n",
    "                StatTests.MeansTest(df,'seller_type','selling_price')\n",
    "            elif menu_choice == 8:\n",
    "                print(\"\\n\")\n",
    "                plt.scatter(np.log(df['km_driven']),np.log(df['selling_price']))\n",
    "                plt.show()\n",
    "                continue\n",
    "            elif menu_choice == 9:\n",
    "                quit = True"
   ]
  },
  {
   "cell_type": "code",
   "execution_count": 163,
   "id": "603c0a4b-d472-4fe2-b067-0f65005f33d5",
   "metadata": {},
   "outputs": [
    {
     "name": "stdout",
     "output_type": "stream",
     "text": [
      "\n",
      "MENU\n",
      "1. Find Maximum Value\n",
      "2. Find Minimum Value\n",
      "3. Find Average Value\n",
      "4. Open DataFrame in Excel\n",
      "5. Regression for Showroom Price by Kilometers Driven\n",
      "6. ANOVA Test: Kilometers Driven by Previous Owner\n",
      "7. T test: Price by Seller Type\n",
      "8. Scatter Plot showing the Kilometers Driven by Year\n",
      "9. Quit\n"
     ]
    },
    {
     "name": "stdin",
     "output_type": "stream",
     "text": [
      "Select an option:  9\n"
     ]
    }
   ],
   "source": [
    "runMenu(df)"
   ]
  },
  {
   "cell_type": "code",
   "execution_count": null,
   "id": "09da121f-f349-423a-be08-025096da797d",
   "metadata": {},
   "outputs": [],
   "source": []
  }
 ],
 "metadata": {
  "kernelspec": {
   "display_name": "Python 3 (ipykernel)",
   "language": "python",
   "name": "python3"
  },
  "language_info": {
   "codemirror_mode": {
    "name": "ipython",
    "version": 3
   },
   "file_extension": ".py",
   "mimetype": "text/x-python",
   "name": "python",
   "nbconvert_exporter": "python",
   "pygments_lexer": "ipython3",
   "version": "3.9.7"
  }
 },
 "nbformat": 4,
 "nbformat_minor": 5
}
